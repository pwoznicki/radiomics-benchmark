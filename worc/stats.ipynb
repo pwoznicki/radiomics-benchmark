{
 "cells": [
  {
   "cell_type": "code",
   "execution_count": 10,
   "metadata": {},
   "outputs": [
    {
     "name": "stdout",
     "output_type": "stream",
     "text": [
      "Liver test  label\n",
      "0     0        73\n",
      "      1        75\n",
      "1     0        19\n",
      "      1        19\n",
      "Name: subject_id, dtype: int64\n",
      "Melanoma test  label\n",
      "0     0        38\n",
      "      1        38\n",
      "1     0        10\n",
      "      1         9\n",
      "Name: subject_id, dtype: int64\n"
     ]
    }
   ],
   "source": [
    "import config\n",
    "import pandas as pd\n",
    "from classrad.utils import io\n",
    "\n",
    "datasets = config.DATASETS\n",
    "\n",
    "for task in datasets[4:]:\n",
    "    result_dir = config.RESULT_DIR / task\n",
    "    df = pd.read_csv(result_dir / \"features.csv\")\n",
    "    splits = io.load_json(result_dir / \"splits.json\")\n",
    "    df['test'] = 0\n",
    "    df.loc[df['subject_id'].isin(splits['test']), 'test'] = 1\n",
    "    print(task, df.groupby(by=['test', 'label'])['subject_id'].count())"
   ]
  },
  {
   "cell_type": "code",
   "execution_count": 4,
   "metadata": {},
   "outputs": [
    {
     "data": {
      "text/html": [
       "<div>\n",
       "<style scoped>\n",
       "    .dataframe tbody tr th:only-of-type {\n",
       "        vertical-align: middle;\n",
       "    }\n",
       "\n",
       "    .dataframe tbody tr th {\n",
       "        vertical-align: top;\n",
       "    }\n",
       "\n",
       "    .dataframe thead th {\n",
       "        text-align: right;\n",
       "    }\n",
       "</style>\n",
       "<table border=\"1\" class=\"dataframe\">\n",
       "  <thead>\n",
       "    <tr style=\"text-align: right;\">\n",
       "      <th></th>\n",
       "      <th>{</th>\n",
       "    </tr>\n",
       "  </thead>\n",
       "  <tbody>\n",
       "    <tr>\n",
       "      <th>\"split_type\": \"test + cross-validation on the training\"</th>\n",
       "      <td>NaN</td>\n",
       "    </tr>\n",
       "    <tr>\n",
       "      <th>\"test\": [</th>\n",
       "      <td>NaN</td>\n",
       "    </tr>\n",
       "    <tr>\n",
       "      <th>\"CRLM-075\"</th>\n",
       "      <td>NaN</td>\n",
       "    </tr>\n",
       "    <tr>\n",
       "      <th>\"CRLM-013\"</th>\n",
       "      <td>NaN</td>\n",
       "    </tr>\n",
       "    <tr>\n",
       "      <th>\"CRLM-026\"</th>\n",
       "      <td>NaN</td>\n",
       "    </tr>\n",
       "    <tr>\n",
       "      <th>...</th>\n",
       "      <td>...</td>\n",
       "    </tr>\n",
       "    <tr>\n",
       "      <th>\"CRLM-017\"</th>\n",
       "      <td>NaN</td>\n",
       "    </tr>\n",
       "    <tr>\n",
       "      <th>]</th>\n",
       "      <td>NaN</td>\n",
       "    </tr>\n",
       "    <tr>\n",
       "      <th>]</th>\n",
       "      <td>NaN</td>\n",
       "    </tr>\n",
       "    <tr>\n",
       "      <th>}</th>\n",
       "      <td>NaN</td>\n",
       "    </tr>\n",
       "    <tr>\n",
       "      <th>}</th>\n",
       "      <td>NaN</td>\n",
       "    </tr>\n",
       "  </tbody>\n",
       "</table>\n",
       "<p>357 rows × 1 columns</p>\n",
       "</div>"
      ],
      "text/plain": [
       "                                                     {\n",
       "    \"split_type\": \"test + cross-validation on t... NaN\n",
       "    \"test\": [                                      NaN\n",
       "        \"CRLM-075\"                                 NaN\n",
       "        \"CRLM-013\"                                 NaN\n",
       "        \"CRLM-026\"                                 NaN\n",
       "...                                                 ..\n",
       "                \"CRLM-017\"                         NaN\n",
       "            ]                                      NaN\n",
       "        ]                                          NaN\n",
       "    }                                              NaN\n",
       "}                                                  NaN\n",
       "\n",
       "[357 rows x 1 columns]"
      ]
     },
     "execution_count": 4,
     "metadata": {},
     "output_type": "execute_result"
    }
   ],
   "source": [
    "splits"
   ]
  },
  {
   "cell_type": "code",
   "execution_count": null,
   "metadata": {},
   "outputs": [],
   "source": []
  }
 ],
 "metadata": {
  "interpreter": {
   "hash": "fae0e534a1f7eb82cb7b8d0a1d460a4c3ae047b35d5f376dffd0c383fc925364"
  },
  "kernelspec": {
   "display_name": "Python 3.8.10 ('.venv': venv)",
   "language": "python",
   "name": "python3"
  },
  "language_info": {
   "codemirror_mode": {
    "name": "ipython",
    "version": 3
   },
   "file_extension": ".py",
   "mimetype": "text/x-python",
   "name": "python",
   "nbconvert_exporter": "python",
   "pygments_lexer": "ipython3",
   "version": "3.8.10"
  },
  "orig_nbformat": 4
 },
 "nbformat": 4,
 "nbformat_minor": 2
}
