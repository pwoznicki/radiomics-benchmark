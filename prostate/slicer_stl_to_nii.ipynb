{
 "cells": [
  {
   "cell_type": "code",
   "execution_count": 1,
   "id": "bae95f82-22f7-428a-96db-b28559b8efa7",
   "metadata": {},
   "outputs": [],
   "source": [
    "from pathlib import Path\n",
    "import os\n",
    "import slicer\n",
    "\n",
    "data_dir = Path(\"/data\")\n",
    "stl_dir = data_dir / \"masks\" / \"STL\"\n",
    "img_dir = data_dir / \"images\" / \"nifti\"\n",
    "out_dir = data_dir / \"masks\" / \"nifti\"\n",
    "out_dir.mkdir(exist_ok=True)"
   ]
  },
  {
   "cell_type": "code",
   "execution_count": 2,
   "id": "9d480a91-7525-4e0b-9442-bb53232839cc",
   "metadata": {},
   "outputs": [],
   "source": [
    "# taken from https://discourse.slicer.org/t/converting-stl-files-to-binary-label-maps-in-nii-format-using-python/13038/9\n",
    "def stl_to_nifti(stl_path, output_path, reference_volume_path):\n",
    "    referenceVolumeNode = slicer.util.loadVolume(reference_volume_path)\n",
    "    segmentationNode = slicer.util.loadSegmentation(stl_path)\n",
    "    outputLabelmapVolumeNode = slicer.mrmlScene.AddNewNodeByClass('vtkMRMLLabelMapVolumeNode')\n",
    "    slicer.modules.segmentations.logic().ExportVisibleSegmentsToLabelmapNode(segmentationNode, outputLabelmapVolumeNode, referenceVolumeNode)\n",
    "    slicer.util.saveNode(outputLabelmapVolumeNode, output_path)"
   ]
  },
  {
   "cell_type": "code",
   "execution_count": null,
   "id": "f783acff-fed8-48f7-adaf-7779f792d558",
   "metadata": {},
   "outputs": [],
   "source": [
    "for i, fname in enumerate(os.listdir(str(stl_dir))[1590:]):\n",
    "    print(i, fname)\n",
    "    stl_path = stl_dir / fname\n",
    "    fname_split = fname[:-4].split(\"-\")\n",
    "    patient_ID = ('-').join(fname_split[:5])\n",
    "    series_UID = fname_split[-1]\n",
    "    ROI = fname_split[5]\n",
    "    ref_img_path = img_dir / patient_ID / (series_UID + '.nii.gz')\n",
    "    if ref_img_path.exists():\n",
    "        (out_dir / patient_ID).mkdir(exist_ok=True)\n",
    "        output_path = out_dir / patient_ID / (f\"{ROI}_{series_UID}.nii.gz\")\n",
    "        if not output_path.exists():\n",
    "            stl_to_nifti(str(stl_path), str(output_path), str(ref_img_path))"
   ]
  },
  {
   "cell_type": "code",
   "execution_count": null,
   "id": "cb9e0b1f-a651-415b-be38-6d832fba6af3",
   "metadata": {},
   "outputs": [],
   "source": []
  }
 ],
 "metadata": {
  "kernelspec": {
   "display_name": ".venv",
   "language": "python",
   "name": "python3"
  },
  "language_info": {
   "file_extension": ".py",
   "mimetype": "text/x-python",
   "name": "python",
   "version": "3.10.4"
  },
  "vscode": {
   "interpreter": {
    "hash": "fae0e534a1f7eb82cb7b8d0a1d460a4c3ae047b35d5f376dffd0c383fc925364"
   }
  }
 },
 "nbformat": 4,
 "nbformat_minor": 5
}
