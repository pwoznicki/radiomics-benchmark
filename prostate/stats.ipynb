{
 "cells": [
  {
   "cell_type": "code",
   "execution_count": 51,
   "metadata": {},
   "outputs": [
    {
     "name": "stdout",
     "output_type": "stream",
     "text": [
      "            case_ID\n",
      "test label         \n",
      "0    False       23\n",
      "     True        55\n",
      "1    False        6\n",
      "     True        14\n",
      "            patient_ID\n",
      "test label            \n",
      "0    False         157\n",
      "     True          351\n",
      "1    False          51\n",
      "     True           93\n"
     ]
    },
    {
     "name": "stderr",
     "output_type": "stream",
     "text": [
      "/home/pw-research/git/radiomics-benchmark/prostate/utils.py:7: SettingWithCopyWarning: \n",
      "A value is trying to be set on a copy of a slice from a DataFrame.\n",
      "Try using .loc[row_indexer,col_indexer] = value instead\n",
      "\n",
      "See the caveats in the documentation: https://pandas.pydata.org/pandas-docs/stable/user_guide/indexing.html#returning-a-view-versus-a-copy\n",
      "  df[\"label\"] = df[\"gleason_group\"] > 1\n",
      "/home/pw-research/git/radiomics-benchmark/prostate/utils.py:4: SettingWithCopyWarning: \n",
      "A value is trying to be set on a copy of a slice from a DataFrame.\n",
      "Try using .loc[row_indexer,col_indexer] = value instead\n",
      "\n",
      "See the caveats in the documentation: https://pandas.pydata.org/pandas-docs/stable/user_guide/indexing.html#returning-a-view-versus-a-copy\n",
      "  df[\"label\"] = df[\"max_gleason\"] > 6\n"
     ]
    }
   ],
   "source": [
    "import config\n",
    "import pandas as pd\n",
    "import utils\n",
    "from classrad.utils import io\n",
    "\n",
    "tasks = [\"prostatex\", \"prostate-ucla\"]\n",
    "params = config.PARAMS\n",
    "\n",
    "for task in tasks:\n",
    "    result_dir = config.RESULT_DIR / task / \"prostate\"\n",
    "    df = pd.read_csv(result_dir / \"prostate_features.csv\")\n",
    "    df_prepro = utils.add_label_col(df)\n",
    "    split_path = result_dir / \"splits.json\"\n",
    "    splits = io.load_json(split_path)\n",
    "    split_on = params[task][\"split_on\"]\n",
    "    df_prepro = df_prepro[[split_on, \"label\"]].drop_duplicates()\n",
    "    df_prepro['test'] = 0\n",
    "    df_prepro.loc[df_prepro[split_on].isin(splits[\"test\"]), \"test\"] = 1\n",
    "    print(df_prepro.groupby(by=[\"test\", \"label\"]).count())"
   ]
  },
  {
   "cell_type": "code",
   "execution_count": 45,
   "metadata": {},
   "outputs": [
    {
     "data": {
      "text/plain": [
       "test  label\n",
       "0     False    175\n",
       "      True     382\n",
       "1     False     68\n",
       "      True     120\n",
       "Name: patient_ID, dtype: int64"
      ]
     },
     "execution_count": 45,
     "metadata": {},
     "output_type": "execute_result"
    }
   ],
   "source": [
    "df_prepro.groupby([\"test\", \"label\"]).count()"
   ]
  },
  {
   "cell_type": "code",
   "execution_count": 36,
   "metadata": {},
   "outputs": [
    {
     "data": {
      "text/plain": [
       "0    557\n",
       "1    188\n",
       "Name: test, dtype: int64"
      ]
     },
     "execution_count": 36,
     "metadata": {},
     "output_type": "execute_result"
    }
   ],
   "source": [
    "df_prepro['test'].value_counts()"
   ]
  },
  {
   "cell_type": "code",
   "execution_count": 34,
   "metadata": {},
   "outputs": [
    {
     "data": {
      "text/plain": [
       "['Prostate-MRI-US-Biopsy-0461',\n",
       " 'Prostate-MRI-US-Biopsy-0301',\n",
       " 'Prostate-MRI-US-Biopsy-0606',\n",
       " 'Prostate-MRI-US-Biopsy-0761',\n",
       " 'Prostate-MRI-US-Biopsy-0103',\n",
       " 'Prostate-MRI-US-Biopsy-0779',\n",
       " 'Prostate-MRI-US-Biopsy-0718',\n",
       " 'Prostate-MRI-US-Biopsy-1150',\n",
       " 'Prostate-MRI-US-Biopsy-0674',\n",
       " 'Prostate-MRI-US-Biopsy-0052',\n",
       " 'Prostate-MRI-US-Biopsy-0356',\n",
       " 'Prostate-MRI-US-Biopsy-0615',\n",
       " 'Prostate-MRI-US-Biopsy-0220',\n",
       " 'Prostate-MRI-US-Biopsy-0367',\n",
       " 'Prostate-MRI-US-Biopsy-0960',\n",
       " 'Prostate-MRI-US-Biopsy-0701',\n",
       " 'Prostate-MRI-US-Biopsy-0619',\n",
       " 'Prostate-MRI-US-Biopsy-0703',\n",
       " 'Prostate-MRI-US-Biopsy-0089',\n",
       " 'Prostate-MRI-US-Biopsy-0072',\n",
       " 'Prostate-MRI-US-Biopsy-0928',\n",
       " 'Prostate-MRI-US-Biopsy-0876',\n",
       " 'Prostate-MRI-US-Biopsy-0806',\n",
       " 'Prostate-MRI-US-Biopsy-0796',\n",
       " 'Prostate-MRI-US-Biopsy-1044',\n",
       " 'Prostate-MRI-US-Biopsy-0036',\n",
       " 'Prostate-MRI-US-Biopsy-0109',\n",
       " 'Prostate-MRI-US-Biopsy-0760',\n",
       " 'Prostate-MRI-US-Biopsy-0983',\n",
       " 'Prostate-MRI-US-Biopsy-0117',\n",
       " 'Prostate-MRI-US-Biopsy-0047',\n",
       " 'Prostate-MRI-US-Biopsy-0470',\n",
       " 'Prostate-MRI-US-Biopsy-0685',\n",
       " 'Prostate-MRI-US-Biopsy-0889',\n",
       " 'Prostate-MRI-US-Biopsy-0550',\n",
       " 'Prostate-MRI-US-Biopsy-0610',\n",
       " 'Prostate-MRI-US-Biopsy-0693',\n",
       " 'Prostate-MRI-US-Biopsy-0522',\n",
       " 'Prostate-MRI-US-Biopsy-0211',\n",
       " 'Prostate-MRI-US-Biopsy-0090',\n",
       " 'Prostate-MRI-US-Biopsy-0488',\n",
       " 'Prostate-MRI-US-Biopsy-0521',\n",
       " 'Prostate-MRI-US-Biopsy-0285',\n",
       " 'Prostate-MRI-US-Biopsy-0134',\n",
       " 'Prostate-MRI-US-Biopsy-0929',\n",
       " 'Prostate-MRI-US-Biopsy-0314',\n",
       " 'Prostate-MRI-US-Biopsy-0084',\n",
       " 'Prostate-MRI-US-Biopsy-0971',\n",
       " 'Prostate-MRI-US-Biopsy-0244',\n",
       " 'Prostate-MRI-US-Biopsy-0355',\n",
       " 'Prostate-MRI-US-Biopsy-0437',\n",
       " 'Prostate-MRI-US-Biopsy-0974',\n",
       " 'Prostate-MRI-US-Biopsy-1022',\n",
       " 'Prostate-MRI-US-Biopsy-0134',\n",
       " 'Prostate-MRI-US-Biopsy-0592',\n",
       " 'Prostate-MRI-US-Biopsy-0612',\n",
       " 'Prostate-MRI-US-Biopsy-1124',\n",
       " 'Prostate-MRI-US-Biopsy-0829',\n",
       " 'Prostate-MRI-US-Biopsy-0288',\n",
       " 'Prostate-MRI-US-Biopsy-0021',\n",
       " 'Prostate-MRI-US-Biopsy-0988',\n",
       " 'Prostate-MRI-US-Biopsy-0903',\n",
       " 'Prostate-MRI-US-Biopsy-0453',\n",
       " 'Prostate-MRI-US-Biopsy-0634',\n",
       " 'Prostate-MRI-US-Biopsy-0374',\n",
       " 'Prostate-MRI-US-Biopsy-0141',\n",
       " 'Prostate-MRI-US-Biopsy-0205',\n",
       " 'Prostate-MRI-US-Biopsy-0720',\n",
       " 'Prostate-MRI-US-Biopsy-0624',\n",
       " 'Prostate-MRI-US-Biopsy-0574',\n",
       " 'Prostate-MRI-US-Biopsy-0238',\n",
       " 'Prostate-MRI-US-Biopsy-0635',\n",
       " 'Prostate-MRI-US-Biopsy-0472',\n",
       " 'Prostate-MRI-US-Biopsy-0354',\n",
       " 'Prostate-MRI-US-Biopsy-0314',\n",
       " 'Prostate-MRI-US-Biopsy-1005',\n",
       " 'Prostate-MRI-US-Biopsy-0071',\n",
       " 'Prostate-MRI-US-Biopsy-0869',\n",
       " 'Prostate-MRI-US-Biopsy-1065',\n",
       " 'Prostate-MRI-US-Biopsy-0917',\n",
       " 'Prostate-MRI-US-Biopsy-0986',\n",
       " 'Prostate-MRI-US-Biopsy-0486',\n",
       " 'Prostate-MRI-US-Biopsy-0432',\n",
       " 'Prostate-MRI-US-Biopsy-0202',\n",
       " 'Prostate-MRI-US-Biopsy-0772',\n",
       " 'Prostate-MRI-US-Biopsy-0033',\n",
       " 'Prostate-MRI-US-Biopsy-0581',\n",
       " 'Prostate-MRI-US-Biopsy-0824',\n",
       " 'Prostate-MRI-US-Biopsy-0442',\n",
       " 'Prostate-MRI-US-Biopsy-0774',\n",
       " 'Prostate-MRI-US-Biopsy-0792',\n",
       " 'Prostate-MRI-US-Biopsy-0469',\n",
       " 'Prostate-MRI-US-Biopsy-0267',\n",
       " 'Prostate-MRI-US-Biopsy-0224',\n",
       " 'Prostate-MRI-US-Biopsy-0493',\n",
       " 'Prostate-MRI-US-Biopsy-0031',\n",
       " 'Prostate-MRI-US-Biopsy-0640',\n",
       " 'Prostate-MRI-US-Biopsy-0745',\n",
       " 'Prostate-MRI-US-Biopsy-0587',\n",
       " 'Prostate-MRI-US-Biopsy-0009',\n",
       " 'Prostate-MRI-US-Biopsy-0328',\n",
       " 'Prostate-MRI-US-Biopsy-0973',\n",
       " 'Prostate-MRI-US-Biopsy-0804',\n",
       " 'Prostate-MRI-US-Biopsy-0916',\n",
       " 'Prostate-MRI-US-Biopsy-0876',\n",
       " 'Prostate-MRI-US-Biopsy-0013',\n",
       " 'Prostate-MRI-US-Biopsy-0393',\n",
       " 'Prostate-MRI-US-Biopsy-1128',\n",
       " 'Prostate-MRI-US-Biopsy-0711',\n",
       " 'Prostate-MRI-US-Biopsy-0986',\n",
       " 'Prostate-MRI-US-Biopsy-0304',\n",
       " 'Prostate-MRI-US-Biopsy-0523',\n",
       " 'Prostate-MRI-US-Biopsy-0473',\n",
       " 'Prostate-MRI-US-Biopsy-0402',\n",
       " 'Prostate-MRI-US-Biopsy-0455',\n",
       " 'Prostate-MRI-US-Biopsy-0502',\n",
       " 'Prostate-MRI-US-Biopsy-1135',\n",
       " 'Prostate-MRI-US-Biopsy-0632',\n",
       " 'Prostate-MRI-US-Biopsy-0883',\n",
       " 'Prostate-MRI-US-Biopsy-1073',\n",
       " 'Prostate-MRI-US-Biopsy-0289',\n",
       " 'Prostate-MRI-US-Biopsy-0797',\n",
       " 'Prostate-MRI-US-Biopsy-0174',\n",
       " 'Prostate-MRI-US-Biopsy-0772',\n",
       " 'Prostate-MRI-US-Biopsy-0208',\n",
       " 'Prostate-MRI-US-Biopsy-0006',\n",
       " 'Prostate-MRI-US-Biopsy-0095',\n",
       " 'Prostate-MRI-US-Biopsy-0479',\n",
       " 'Prostate-MRI-US-Biopsy-0713',\n",
       " 'Prostate-MRI-US-Biopsy-0835',\n",
       " 'Prostate-MRI-US-Biopsy-0114',\n",
       " 'Prostate-MRI-US-Biopsy-0536',\n",
       " 'Prostate-MRI-US-Biopsy-0886',\n",
       " 'Prostate-MRI-US-Biopsy-0371',\n",
       " 'Prostate-MRI-US-Biopsy-0568',\n",
       " 'Prostate-MRI-US-Biopsy-0124',\n",
       " 'Prostate-MRI-US-Biopsy-0059',\n",
       " 'Prostate-MRI-US-Biopsy-1009',\n",
       " 'Prostate-MRI-US-Biopsy-0411',\n",
       " 'Prostate-MRI-US-Biopsy-0992',\n",
       " 'Prostate-MRI-US-Biopsy-0118',\n",
       " 'Prostate-MRI-US-Biopsy-0769',\n",
       " 'Prostate-MRI-US-Biopsy-0575',\n",
       " 'Prostate-MRI-US-Biopsy-0559',\n",
       " 'Prostate-MRI-US-Biopsy-0445',\n",
       " 'Prostate-MRI-US-Biopsy-0744',\n",
       " 'Prostate-MRI-US-Biopsy-0336',\n",
       " 'Prostate-MRI-US-Biopsy-0531',\n",
       " 'Prostate-MRI-US-Biopsy-0821']"
      ]
     },
     "execution_count": 34,
     "metadata": {},
     "output_type": "execute_result"
    }
   ],
   "source": [
    "splits['test']"
   ]
  },
  {
   "cell_type": "code",
   "execution_count": null,
   "metadata": {},
   "outputs": [],
   "source": []
  }
 ],
 "metadata": {
  "interpreter": {
   "hash": "fae0e534a1f7eb82cb7b8d0a1d460a4c3ae047b35d5f376dffd0c383fc925364"
  },
  "kernelspec": {
   "display_name": "Python 3.8.10 ('.venv': venv)",
   "language": "python",
   "name": "python3"
  },
  "language_info": {
   "codemirror_mode": {
    "name": "ipython",
    "version": 3
   },
   "file_extension": ".py",
   "mimetype": "text/x-python",
   "name": "python",
   "nbconvert_exporter": "python",
   "pygments_lexer": "ipython3",
   "version": "3.8.10"
  },
  "orig_nbformat": 4
 },
 "nbformat": 4,
 "nbformat_minor": 2
}
