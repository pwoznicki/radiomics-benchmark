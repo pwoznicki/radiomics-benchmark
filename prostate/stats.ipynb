{
 "cells": [
  {
   "cell_type": "code",
   "execution_count": 3,
   "metadata": {},
   "outputs": [
    {
     "name": "stdout",
     "output_type": "stream",
     "text": [
      "199\n",
      "True     69\n",
      "False    29\n",
      "Name: label, dtype: int64\n",
      "950\n",
      "True     502\n",
      "False    243\n",
      "Name: label, dtype: int64\n"
     ]
    },
    {
     "name": "stderr",
     "output_type": "stream",
     "text": [
      "/home/pw-research/git/radiomics-benchmark/prostate/utils.py:7: SettingWithCopyWarning: \n",
      "A value is trying to be set on a copy of a slice from a DataFrame.\n",
      "Try using .loc[row_indexer,col_indexer] = value instead\n",
      "\n",
      "See the caveats in the documentation: https://pandas.pydata.org/pandas-docs/stable/user_guide/indexing.html#returning-a-view-versus-a-copy\n",
      "  df[\"label\"] = df[\"gleason_group\"] > 1\n",
      "/home/pw-research/git/radiomics-benchmark/prostate/utils.py:4: SettingWithCopyWarning: \n",
      "A value is trying to be set on a copy of a slice from a DataFrame.\n",
      "Try using .loc[row_indexer,col_indexer] = value instead\n",
      "\n",
      "See the caveats in the documentation: https://pandas.pydata.org/pandas-docs/stable/user_guide/indexing.html#returning-a-view-versus-a-copy\n",
      "  df[\"label\"] = df[\"max_gleason\"] > 6\n"
     ]
    }
   ],
   "source": [
    "import config\n",
    "import pandas as pd\n",
    "import utils\n",
    "\n",
    "\n",
    "tasks = [\"prostatex\", \"prostate-ucla\"]\n",
    "\n",
    "for task in tasks:\n",
    "    result_dir = config.RESULT_DIR / task / \"prostate\"\n",
    "    df = pd.read_csv(result_dir / \"prostate_features.csv\")\n",
    "    print(len(df))\n",
    "    df_selected = utils.add_label_col(df)\n",
    "    print(df_selected['label'].value_counts())"
   ]
  },
  {
   "cell_type": "code",
   "execution_count": null,
   "metadata": {},
   "outputs": [],
   "source": []
  }
 ],
 "metadata": {
  "interpreter": {
   "hash": "fae0e534a1f7eb82cb7b8d0a1d460a4c3ae047b35d5f376dffd0c383fc925364"
  },
  "kernelspec": {
   "display_name": "Python 3.8.10 ('.venv': venv)",
   "language": "python",
   "name": "python3"
  },
  "language_info": {
   "codemirror_mode": {
    "name": "ipython",
    "version": 3
   },
   "file_extension": ".py",
   "mimetype": "text/x-python",
   "name": "python",
   "nbconvert_exporter": "python",
   "pygments_lexer": "ipython3",
   "version": "3.8.10"
  },
  "orig_nbformat": 4
 },
 "nbformat": 4,
 "nbformat_minor": 2
}
